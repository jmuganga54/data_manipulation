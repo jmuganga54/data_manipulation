{
 "cells": [
  {
   "cell_type": "code",
   "execution_count": 1,
   "id": "497f36ea",
   "metadata": {},
   "outputs": [],
   "source": [
    "import pandas as pd\n",
    "import codecs"
   ]
  },
  {
   "cell_type": "code",
   "execution_count": 2,
   "id": "a3a75e4b",
   "metadata": {},
   "outputs": [],
   "source": [
    "# XLSForm file goes here\n",
    "xlsform = './hh_register.xlsx'\n",
    "\n",
    "# the mapping file that will be created by this process\n",
    "mapping_filename = 'hh_registration_mapping.py'"
   ]
  },
  {
   "cell_type": "code",
   "execution_count": 3,
   "id": "5aba12a7-0281-48c3-bea4-bceb57514f01",
   "metadata": {},
   "outputs": [],
   "source": [
    "# reading choices sheet\n",
    "df_choices = pd.read_excel(xlsform, sheet_name='choices', usecols=['list_name','name','label'], dtype='object')\n",
    "\n",
    "# cleanig empty lines\n",
    "df_choices.dropna(how='all', axis=0, inplace=True)\n",
    "\n",
    "# eliminating spaces in the beginning or the end of the labels\n",
    "df_choices['label'] = df_choices['label'].astype(str).apply(lambda x: x.strip())\n",
    "\n",
    "# creating a list of list_name found at choices sheet\n",
    "list_names = df_choices['list_name'].unique()\n",
    "\n",
    "# names should be the index to create dictionaries for each list_name\n",
    "df_choices.set_index('name', inplace=True)\n",
    "\n",
    "with codecs.open(mapping_filename, 'w', 'utf-8-sig') as f:\n",
    "    for l in list_names:\n",
    "        choices_dict = df_choices[df_choices['list_name']==l]['label'].to_dict()\n",
    "        linetxt = '{} = {}\\n'.format(l,str(choices_dict))\n",
    "        f.write(linetxt.strip(' '))\n",
    "f.close()"
   ]
  },
  {
   "cell_type": "code",
   "execution_count": null,
   "id": "99c496ed",
   "metadata": {},
   "outputs": [],
   "source": []
  }
 ],
 "metadata": {
  "kernelspec": {
   "display_name": "pyODK",
   "language": "python",
   "name": "pyodk"
  },
  "language_info": {
   "codemirror_mode": {
    "name": "ipython",
    "version": 3
   },
   "file_extension": ".py",
   "mimetype": "text/x-python",
   "name": "python",
   "nbconvert_exporter": "python",
   "pygments_lexer": "ipython3",
   "version": "3.10.12"
  }
 },
 "nbformat": 4,
 "nbformat_minor": 5
}
