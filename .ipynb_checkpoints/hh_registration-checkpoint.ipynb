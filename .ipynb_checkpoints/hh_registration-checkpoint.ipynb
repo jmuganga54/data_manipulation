{
 "cells": [
  {
   "cell_type": "code",
   "execution_count": 1,
   "id": "6db3f1ec-6413-41c5-87c0-03dec4ba5f25",
   "metadata": {},
   "outputs": [],
   "source": [
    "from pyodk import Client\n",
    "import pandas as pd\n",
    "\n",
    "from hh_registration_mapping import age_of_others, age_range, gender, relationship_to_household, yes_no"
   ]
  },
  {
   "cell_type": "code",
   "execution_count": 2,
   "id": "97170336-82ca-48d5-a70e-10c9e6949e43",
   "metadata": {},
   "outputs": [],
   "source": [
    "root_folder='./'\n",
    "\n",
    "FORM_ID = \"hh_register\""
   ]
  },
  {
   "cell_type": "code",
   "execution_count": 3,
   "id": "3e73d3bf-6f36-45b1-a22c-28269710b5b0",
   "metadata": {},
   "outputs": [
    {
     "data": {
      "text/plain": [
       "<pyodk.client.Client at 0x7fae97b43640>"
      ]
     },
     "execution_count": 3,
     "metadata": {},
     "output_type": "execute_result"
    }
   ],
   "source": [
    "# cria uma instância de cliente com as configurações no arquivo indicado e inicia a sessão autenticada\n",
    "client = Client(config_path=root_folder+'.pyodk_config.toml', cache_path=root_folder+'.pyodk_cache.toml')\n",
    "client.open()"
   ]
  },
  {
   "cell_type": "code",
   "execution_count": 4,
   "id": "8ad3c603-2e26-4594-960a-9bab16cc81ae",
   "metadata": {},
   "outputs": [
    {
     "data": {
      "text/plain": [
       "Index(['start', 'end', '__id', 'chw_information.survey_note',\n",
       "       'chw_information.enter_today_s_date',\n",
       "       'household_registration.cal_household_id',\n",
       "       'household_registration.household_id',\n",
       "       'household_registration.GPS_Cordinates.type',\n",
       "       'household_registration.GPS_Cordinates.coordinates',\n",
       "       'household_registration.GPS_Cordinates.properties.accuracy',\n",
       "       'household_registration.address', 'household_registration.phone_number',\n",
       "       'household_registration.improved_latrine',\n",
       "       'household_registration.handwashing_facility',\n",
       "       'household_registration.own_net', 'household_registration.num_nets',\n",
       "       'household_registration.num_people_in_hh',\n",
       "       'household_registration.notes',\n",
       "       'household_registration.member_details@odata.navigationLink'],\n",
       "      dtype='object')"
      ]
     },
     "execution_count": 4,
     "metadata": {},
     "output_type": "execute_result"
    }
   ],
   "source": [
    "# Loading data from the main (master) form\n",
    "subm_list_master = client.submissions.get_table(form_id=FORM_ID, filter=\"__system/reviewState ne 'rejected'\")['value']\n",
    "\n",
    "# __system and meta sections are basically information about the data (metadata), we're not interested in that now\n",
    "[d.pop('__system') for d in subm_list_master]\n",
    "[d.pop('meta') for d in subm_list_master]\n",
    "\n",
    "# creating a dataframe with the submission data without the repeat structures (master)\n",
    "df_master = pd.DataFrame(pd.json_normalize(subm_list_master))\n",
    "\n",
    "# list of column names for this master dataframe\n",
    "df_master.columns"
   ]
  },
  {
   "cell_type": "code",
   "execution_count": 5,
   "id": "906eeb92-1d1c-4614-bb36-c610521dad82",
   "metadata": {},
   "outputs": [
    {
     "data": {
      "text/plain": [
       "Index(['member_name', 'relationship_household', 'relationship_household_other',\n",
       "       'sex', 'is_pregnant', 'date_of_birth', 'age_in_days', 'age_in_years',\n",
       "       'cal_age', 'age', 'age_range', 'age_range_note', 'rel_specify_other',\n",
       "       'age_of_others', 'age_specify_others', '__id', '__Submissions-id'],\n",
       "      dtype='object')"
      ]
     },
     "execution_count": 5,
     "metadata": {},
     "output_type": "execute_result"
    }
   ],
   "source": [
    "# Loading data from repeat structures (detail)\n",
    "subm_list_detail = client.submissions.get_table(form_id=FORM_ID, table_name='Submissions.household_registration.member_details')['value']\n",
    "\n",
    "# creating a dataframe with repeat data (detail)\n",
    "df_detail = pd.DataFrame(pd.json_normalize(subm_list_detail))\n",
    "\n",
    "# list of column names for detail dataframe\n",
    "df_detail.columns"
   ]
  },
  {
   "cell_type": "code",
   "execution_count": 6,
   "id": "fdf4493d-bd29-4bb0-a3b5-faea34b1eeb5",
   "metadata": {},
   "outputs": [],
   "source": [
    "# merging master and detail data\n",
    "df_alldata = pd.merge(left=df_master, right=df_detail, left_on='__id', right_on='__Submissions-id', how='inner')"
   ]
  },
  {
   "cell_type": "code",
   "execution_count": 7,
   "id": "edaf27c9-88b3-433b-bad2-5c4ee5710805",
   "metadata": {},
   "outputs": [
    {
     "name": "stdout",
     "output_type": "stream",
     "text": [
      "<class 'pandas.core.frame.DataFrame'>\n",
      "RangeIndex: 3 entries, 0 to 2\n",
      "Data columns (total 36 columns):\n",
      " #   Column                                                      Non-Null Count  Dtype \n",
      "---  ------                                                      --------------  ----- \n",
      " 0   start                                                       3 non-null      object\n",
      " 1   end                                                         3 non-null      object\n",
      " 2   __id_x                                                      3 non-null      object\n",
      " 3   chw_information.survey_note                                 0 non-null      object\n",
      " 4   chw_information.enter_today_s_date                          3 non-null      object\n",
      " 5   household_registration.cal_household_id                     3 non-null      object\n",
      " 6   household_registration.household_id                         0 non-null      object\n",
      " 7   household_registration.GPS_Cordinates.type                  3 non-null      object\n",
      " 8   household_registration.GPS_Cordinates.coordinates           3 non-null      object\n",
      " 9   household_registration.GPS_Cordinates.properties.accuracy   3 non-null      int64 \n",
      " 10  household_registration.address                              3 non-null      object\n",
      " 11  household_registration.phone_number                         3 non-null      object\n",
      " 12  household_registration.improved_latrine                     3 non-null      object\n",
      " 13  household_registration.handwashing_facility                 3 non-null      object\n",
      " 14  household_registration.own_net                              3 non-null      object\n",
      " 15  household_registration.num_nets                             0 non-null      object\n",
      " 16  household_registration.num_people_in_hh                     3 non-null      int64 \n",
      " 17  household_registration.notes                                0 non-null      object\n",
      " 18  household_registration.member_details@odata.navigationLink  3 non-null      object\n",
      " 19  member_name                                                 3 non-null      object\n",
      " 20  relationship_household                                      3 non-null      object\n",
      " 21  relationship_household_other                                0 non-null      object\n",
      " 22  sex                                                         3 non-null      object\n",
      " 23  is_pregnant                                                 1 non-null      object\n",
      " 24  date_of_birth                                               3 non-null      object\n",
      " 25  age_in_days                                                 3 non-null      object\n",
      " 26  age_in_years                                                3 non-null      object\n",
      " 27  cal_age                                                     3 non-null      object\n",
      " 28  age                                                         0 non-null      object\n",
      " 29  age_range                                                   3 non-null      object\n",
      " 30  age_range_note                                              0 non-null      object\n",
      " 31  rel_specify_other                                           0 non-null      object\n",
      " 32  age_of_others                                               0 non-null      object\n",
      " 33  age_specify_others                                          0 non-null      object\n",
      " 34  __id_y                                                      3 non-null      object\n",
      " 35  __Submissions-id                                            3 non-null      object\n",
      "dtypes: int64(2), object(34)\n",
      "memory usage: 992.0+ bytes\n"
     ]
    }
   ],
   "source": [
    "# what do we got here?\n",
    "df_alldata.info()"
   ]
  },
  {
   "cell_type": "code",
   "execution_count": null,
   "id": "9ea2e3b0-beba-408c-b7d4-ccfe7db82947",
   "metadata": {},
   "outputs": [],
   "source": []
  },
  {
   "cell_type": "code",
   "execution_count": null,
   "id": "81523a09-1bd6-4ac6-8732-75c46be2eebc",
   "metadata": {},
   "outputs": [],
   "source": []
  }
 ],
 "metadata": {
  "kernelspec": {
   "display_name": "pyODK",
   "language": "python",
   "name": "pyodk"
  },
  "language_info": {
   "codemirror_mode": {
    "name": "ipython",
    "version": 3
   },
   "file_extension": ".py",
   "mimetype": "text/x-python",
   "name": "python",
   "nbconvert_exporter": "python",
   "pygments_lexer": "ipython3",
   "version": "3.10.12"
  }
 },
 "nbformat": 4,
 "nbformat_minor": 5
}
